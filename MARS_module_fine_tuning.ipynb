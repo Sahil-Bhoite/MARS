{
  "cells": [
    {
      "cell_type": "code",
      "execution_count": null,
      "metadata": {
        "colab": {
          "base_uri": "https://localhost:8080/"
        },
        "id": "wak76xYYUdXE",
        "outputId": "fe851062-7f74-428d-eb26-f01c59cf386b"
      },
      "outputs": [
        {
          "output_type": "stream",
          "name": "stdout",
          "text": [
            "Requirement already satisfied: gradientai in /usr/local/lib/python3.10/dist-packages (1.6.0)\n",
            "Requirement already satisfied: aenum>=3.1.11 in /usr/local/lib/python3.10/dist-packages (from gradientai) (3.1.15)\n",
            "Requirement already satisfied: pydantic<2.0.0,>=1.10.5 in /usr/local/lib/python3.10/dist-packages (from gradientai) (1.10.14)\n",
            "Requirement already satisfied: python-dateutil>=2.8.2 in /usr/local/lib/python3.10/dist-packages (from gradientai) (2.8.2)\n",
            "Requirement already satisfied: urllib3>=1.25.3 in /usr/local/lib/python3.10/dist-packages (from gradientai) (2.0.7)\n",
            "Requirement already satisfied: typing-extensions>=4.2.0 in /usr/local/lib/python3.10/dist-packages (from pydantic<2.0.0,>=1.10.5->gradientai) (4.5.0)\n",
            "Requirement already satisfied: six>=1.5 in /usr/local/lib/python3.10/dist-packages (from python-dateutil>=2.8.2->gradientai) (1.16.0)\n"
          ]
        }
      ],
      "source": [
        "!pip install gradientai --upgrade # Install the Gradient AI library"
      ]
    },
    {
      "cell_type": "code",
      "execution_count": null,
      "metadata": {
        "id": "U02ytLrPA2rG"
      },
      "outputs": [],
      "source": [
        "import os\n",
        "# Set Gradient API credentials\n",
        "os.environ['GRADIENT_ACCESS_TOKEN'] = \"get it on gradient\"\n",
        "os.environ['GRADIENT_WORKSPACE_ID'] = \"get it on gradient\""
      ]
    },
    {
      "cell_type": "markdown",
      "source": [],
      "metadata": {
        "id": "ysCCmRP2SW7o"
      }
    },
    {
      "cell_type": "code",
      "execution_count": null,
      "metadata": {
        "colab": {
          "base_uri": "https://localhost:8080/"
        },
        "id": "Scor9o08VVhQ",
        "outputId": "ffd7f0ea-e9cd-423f-8a51-9d902af5a537"
      },
      "outputs": [
        {
          "output_type": "stream",
          "name": "stdout",
          "text": [
            "Created model adapter with id 21838540-4d47-4cdd-9298-88d85357c5d8_model_adapter\n",
            "Fine-tuning the model, iteration 1\n",
            "Fine-tuning the model, iteration 2\n",
            "Fine-tuning the model, iteration 3\n",
            "Generated (after fine-tune):  Multi-modal AI Research System (MARS) is an innovative tool that transforms how we handle and analyze data. It addresses the challenges of managing diverse data types, such as text, images, audio, and video, by combining AI technologies to perform tasks like classification, clustering, and generation. MARS will have a chat-based UI, making it easy to use and accessible to a wide range of users. Our goal is to simplify data analysis and make\n"
          ]
        }
      ],
      "source": [
        "from gradientai import Gradient # Import required libraries\n",
        "\n",
        "# Create a function for fine-tuning the model\n",
        "def main():\n",
        "    with Gradient() as gradient: # Connect to Gradient\n",
        "        # Get the base model\n",
        "        base_model = gradient.get_base_model(base_model_slug=\"llama2-7b-chat\")\n",
        "\n",
        "        # Create a new model adapter\n",
        "        new_model_adapter = base_model.create_model_adapter(\n",
        "            name=\"test model 3\"\n",
        "        )\n",
        "        print(f\"Created model adapter with id {new_model_adapter.id}\")\n",
        "\n",
        "        # Additional information for training\n",
        "        dataset_variations = [\n",
        "            { \"inputs\": \"### Instruction: What is MARS? \\n\\n### Response:Multi-modal AI Research System (MARS) is an innovative tool that transforms how we handle professional digital files. It addresses the challenges of managing a variety of file types, like PDFs, CSV, excel . Using advanced AI technologies, MARS will perform tasks such as answering questions about the file, modifying the content, creating presentations, analyzing data, and generating dashboards. Our goal is to simplify file management by combining AI with diverse functionalities, making tasks efficient and user-friendly. MARS will have a chat-based UI, allowing users to send and receive files, ask questions, and get help from the system\" },\n",
        "            { \"inputs\": \"### Instruction: What is this project MARS? \\n\\n### Response:Multi-modal AI Research System (MARS) is an innovative tool that transforms how we handle professional digital files. It addresses the challenges of managing a variety of file types, like PDFs, CSV, excel . Using advanced AI technologies, MARS will perform tasks such as answering questions about the file, modifying the content, creating presentations, analyzing data, and generating dashboards. Our goal is to simplify file management by combining AI with diverse functionalities, making tasks efficient and user-friendly. MARS will have a chat-based UI, allowing users to send and receive files, ask questions, and get help from the system\" },\n",
        "            { \"inputs\": \"### Instruction: Can you tell me about MARS? \\n\\n### Response:Multi-modal AI Research System (MARS) is an innovative tool that transforms how we handle professional digital files. It addresses the challenges of managing a variety of file types, like PDFs, CSV, excel . Using advanced AI technologies, MARS will perform tasks such as answering questions about the file, modifying the content, creating presentations, analyzing data, and generating dashboards. Our goal is to simplify file management by combining AI with diverse functionalities, making tasks efficient and user-friendly. MARS will have a chat-based UI, allowing users to send and receive files, ask questions, and get help from the system\" },\n",
        "            { \"inputs\": \"### Instruction: Explain MARS? \\n\\n### Response:Multi-modal AI Research System (MARS) is an innovative tool that transforms how we handle professional digital files. It addresses the challenges of managing a variety of file types, like PDFs, CSV, excel . Using advanced AI technologies, MARS will perform tasks such as answering questions about the file, modifying the content, creating presentations, analyzing data, and generating dashboards. Our goal is to simplify file management by combining AI with diverse functionalities, making tasks efficient and user-friendly. MARS will have a chat-based UI, allowing users to send and receive files, ask questions, and get help from the system\" },\n",
        "            { \"inputs\": \"### Instruction: Tell me about Multi-modal AI Research System (MARS)? \\n\\n### Response:Multi-modal AI Research System (MARS) is an innovative tool that transforms how we handle professional digital files. It addresses the challenges of managing a variety of file types, like PDFs, CSV, excel . Using advanced AI technologies, MARS will perform tasks such as answering questions about the file, modifying the content, creating presentations, analyzing data, and generating dashboards. Our goal is to simplify file management by combining AI with diverse functionalities, making tasks efficient and user-friendly. MARS will have a chat-based UI, allowing users to send and receive files, ask questions, and get help from the system\" },\n",
        "\n",
        "            # Variations of questions with given solutions\n",
        "            # Adding more variations as needed\n",
        "        ]\n",
        "\n",
        "        # Add team members' information to the training dataset\n",
        "        for team_member in [\n",
        "            { \"name\": \"SAHIL BHOITE\", \"prn_number\": \"202101070121\" },\n",
        "            { \"name\": \"MAHESHWARI JADHAV\", \"prn_number\": \"202101040176\" },\n",
        "            { \"name\": \"ASHLESHA CHOPANE\", \"prn_number\": \"202101070109\" },\n",
        "        ]:\n",
        "            dataset_variations.append(\n",
        "                { \"inputs\": f\"### Instruction: Who is {team_member['name']}? \\n\\n### Response: {team_member['name']} is a team member with PRN number {team_member['prn_number']}.\" }\n",
        "            )\n",
        "            dataset_variations.append(\n",
        "                { \"inputs\": f\"### Instruction: Tell me about {team_member['name']}'s role in the project? \\n\\n### Response: {team_member['name']} plays a crucial role in the project and contributes to {team_member['name']}'s expertise in {team_member['name']}'s specific area of focus.\" }\n",
        "            )\n",
        "\n",
        "        # Add guide's information to the training dataset\n",
        "        dataset_variations.append(\n",
        "            { \"inputs\": \"### Instruction: Who is the guide of the project? \\n\\n### Response: The guide of the project is Ms. Kavitha.\" }\n",
        "        )\n",
        "        dataset_variations.append(\n",
        "            { \"inputs\": \"### Instruction: Tell me about Ms. Kavitha's experience in guiding AI projects? \\n\\n### Response: Ms. Kavitha has extensive experience in guiding AI projects and brings a wealth of knowledge to the team. She has successfully supervised multiple projects in the field of artificial intelligence.more of she NAME : Mrs. Kavitha S  in college DESIGNATION : Assistant Professor her QUALIFICATION : B.E. (CSE), M.E. (CSE), PhD (CSE) Pursuing Ph.D. (Pursuing) in Computer Engineering, G.H Raisoni University, Amravati M.Tech (Computer Engineering), MIT, Pune B. E. (Computer Science & Engineering), KCT ,Coimbatore. OVERVIEW OF PROFILE : At MITAOE, Mrs. Kavitha S has been with the School of Computer Engineering, closely associated with the undergraduate program. Her area of interest includes, Data bases, Data mining\" }\n",
        "        )\n",
        "\n",
        "        # Add problem statement and objectives to the training dataset\n",
        "        dataset_variations.append(\n",
        "            { \"inputs\": \"### Instruction: What is the problem statement of the project? \\n\\n### Response: Solution To Develop an AI-driven solution for streamlined management of diverse professional files using a multi-modal approach.\" }\n",
        "        )\n",
        "        dataset_variations.append(\n",
        "            { \"inputs\": \"### Instruction: Can you elaborate on the challenges addressed by the project's problem statement? \\n\\n### Response: The project addresses challenges related to managing diverse professional files, including handling various file formats, efficient text and image extraction, and providing a streamlined solution for file management.\" }\n",
        "        )\n",
        "        dataset_variations.append(\n",
        "            { \"inputs\": \"### Instruction: Why is developing an AI-driven solution important for file management? \\n\\n### Response: Developing an AI-driven solution is crucial for file management as it brings automation, efficiency, and accuracy to tasks such as question answering, modifying content, analyzing data, and document similarity.\" }\n",
        "        )\n",
        "\n",
        "        # Fine-tune the model with the extended dataset\n",
        "        num_epochs = 3\n",
        "        count = 0\n",
        "        while count < num_epochs:\n",
        "            print(f\"Fine-tuning the model, iteration {count + 1}\")\n",
        "            new_model_adapter.fine_tune(samples=dataset_variations)\n",
        "            count += 1\n",
        "\n",
        "        # Test the model after fine-tuning\n",
        "        sample_query = \"### Instruction: What is MARS? \\n\\n### Response:\"\n",
        "        completion = new_model_adapter.complete(query=sample_query, max_generated_token_count=100).generated_output\n",
        "        print(f\"Generated (after fine-tune): {completion}\")\n",
        "\n",
        "\n",
        "if __name__ == \"__main__\":\n",
        "    main()"
      ]
    }
  ],
  "metadata": {
    "accelerator": "GPU",
    "colab": {
      "provenance": []
    },
    "kernelspec": {
      "display_name": "Python 3",
      "name": "python3"
    },
    "language_info": {
      "name": "python"
    }
  },
  "nbformat": 4,
  "nbformat_minor": 0
}
